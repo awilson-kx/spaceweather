{
 "cells": [
  {
   "cell_type": "markdown",
   "metadata": {},
   "source": [
    "# Machine Learning Demonstration\n",
    "\n",
    "To run this notebook, you need to install python dependencies:\n",
    "\n",
    "Install tensorflow:\n",
    "\n",
    "With conda:\n",
    "\n",
    "```conda install -c conda-forge tensorflow```\n",
    "\n",
    "With pip:\n",
    "\n",
    "```pip install tensorflow```\n",
    "\n",
    "> If you have a GPU in your computer, you can better install the gpu version to speed up some computations by following the instructions in this link: https://www.tensorflow.org/install/\n",
    "\n",
    "Other dependencies:\n",
    "\n",
    "With pip:\n",
    "\n",
    "```pip install numpy==1.14.0\n",
    "pip install pandas==0.20.3\n",
    "pip install matplotlib==2.1.1\n",
    "pip install Keras==2.0.9\n",
    "pip install scikit_learn==0.19.1```\n",
    "\n",
    "## Using AI Techniques to Forecast GNSS Disruptions\n",
    "\n",
    "A Global Navigation Satellite System (GNSS) is a network of satellites providing geospatial positioning with global coverage. Such a network relies upon radio communications between satellites and ground-based receivers, which can be subject to interruptions in the presence of extreme space weather events.\n",
    "\n",
    "Space weather refers to changes in radiation emitted by the Sun, leading to fluctuations in the Earth’s ionosphere. Changes to the electron density in the ionosphere cause fluctuations in the amplitude and phase of radio signals, known as phase scintillation. Radio signals propagating between GNSS satellites and ground-based receivers are affected by these scintillation events and can become inaccurate or even lost. \n",
    "\n",
    "In a society that has become dependent on GNSS services for navigation in everyday life, it is important to know when signal disruptions might occur. Given that space weather events occurring between the Sun and the Earth have a non-linear relationship, physical models have struggled to predict scintillation events. One solution is to use artificial intelligence (AI) technologies to create machine learning (ML) models. \n",
    "\n",
    "In this notebook, we examine the use of ML models to predict scintiallation events, using historical GNSS data. Initially, a support vector machine (SVM) was used to recreate the baseline model outlined in McGranaghan et al., 2018. We then implement a neural network model in an attempt to improve upon the baseline results. Both methods used the strength of kdb+/q to deal with time-series data and embedPy to import the necessary python ML libraries.\n",
    "\n",
    "\n",
    "## Data\n",
    "\n",
    "Publicly available data was used to develop the ML models discussed below. Different datasets describe the state of the Sun, the ionosphere and the magnetic field of the Earth. Combining these datasets created an overall picture of atmospheric conditions at each timestep, including when scintillation events occured.\n",
    "\n",
    "The first dataset was collected by the Canadian High Arctic Ionospheric Network (CHAIN) from high-latitude GNSS receivers (login required - http://chain.physics.unb.ca/chain/pages/data_download). 14 CHAIN receiver stations with the most continuous data were used. The latitude and longitude of each PolaRxS station can be found on the CHAIN website  (http://chain.physics.unb.ca/chain/pages/stations/). Recorded features for each receiver include; TEC, differential TEC (current TEC minus TEC recorded 15 seconds previously), the scintillation index, the phase and amplitude scintillation indices and the phase spectral slope.\n",
    "\n",
    "Solar and geomagnetic features can be found in the second dataset, which is available on the NASA OMNI database (ftp://spdf.gsfc.nasa.gov/pub/data/omni/). Features in the data include solar wind properties (velocity, power, and the Newell and Borovsky constants), magnetic properties (magnetic field strength, IMF and clock angle), and geomagnetic indices (AE and SymH), along with proton fluxes and solar X-ray measurements. Additional indices Kp and F10.7 are available from the NOAA Geostationary Satellite Server (https://satdat.ngdc.noaa.gov/sem/goes/data/full/).\n",
    "\n",
    "The third dataset was collected by magnetometers at high latitudes in the Canadian Array for Real-time Investigations of Magnetic Activity Network (CARISMA) (http://data.carisma.ca/FGM/1Hz/).\n",
    "\n",
    "\n",
    "## Preprocessing\n",
    "\n",
    "Initial preprocessing can be found in the script preprocessing.q. CHAIN data was corrected for non-scintillation irregularities by only including data from satellites where lock-times with the receivers were greater than 200 seconds, and where elevation was above 30 degrees. The phase and amplitude scintillation indices were projected to the vertical, to correct for geomagnetic effects in measurements recorded at different elevations. Latitude and longitude for each station were also added to the data. Historical values recorded 15 and 30 minutes previously were included in the Solar dataset for each input parameter from the OMNI dataset.\n",
    "\n",
    "For all three datasets, datetime columns were added. Solar data which was recorded in 5 and 60 minutes intervals. Given that CHAIN and magnetometer data were recorded at 1 minute intervals for each CHAIN receiver station, station columns were added to each and solar data was forward filled at the missing timesteps to allow consistency across the data.\n",
    "\n",
    "Once preprocessed, data was persisted as a date-partitioned kdb+ database. Scripts were written to create configuration tables (configSVM.q and configNN.q), specifying the features and scaling required for each model.\n",
    "\n",
    "## 1 SVM Baseline Model\n",
    "\n",
    "A SVM will be used to recreate the baseline model outlined in McGranaghan et al., 2018. CHAIN and solar datasets from 2015 are used, with measurements recorded at 1 minute intervals, where CHAIN data is recorded for each of the 14 receiver stations.\n",
    "\n",
    "### 1.1 Data"
   ]
  },
  {
   "cell_type": "code",
   "execution_count": 1,
   "metadata": {},
   "outputs": [
    {
     "name": "stdout",
     "output_type": "stream",
     "text": [
      "SVM Configuration Table:\n",
      "\n",
      "table colname   feature scaler\n",
      "------------------------------\n",
      "chain dt        0       ::    \n",
      "chain doy       0       ::    \n",
      "chain cs        0       ::    \n",
      "chain tec       1       ::    \n",
      "chain dtec      1       ::    \n",
      "chain SI        1       ::    \n",
      "chain specSlope 1       ::    \n",
      "..\n",
      "\n",
      "Shape of chain is 3706506 x 12\n",
      "Shape of solar is 1576801 x 31\n",
      "Shape of goes is 520757 x 3\n"
     ]
    }
   ],
   "source": [
    "\\c 12 100\n",
    "\\l /SpaceWeather/test\n",
    "\\l ../sw1/utils.q\n",
    "\\l ../sw1/graphics.q\n",
    "\\l ../sw1/configSVM.q\n",
    "\n",
    "predTime:1 3 6 9 12 24\n",
    "predCol:`sigPhiVer1hr`sigPhiVer3hr`sigPhiVer6hr`sigPhiVer9hr`sigPhiVer12hr`sigPhiVer24hr\n",
    "\n",
    "-1\"SVM Configuration Table:\\n\";\n",
    "show configSVM\n",
    "-1\"\\nShape of chain is \",sv[\" x \"]string(count chain;count cols chain);\n",
    "-1\"Shape of solar is \",sv[\" x \"]string(count solar;count cols solar);\n",
    "-1\"Shape of goes is \",sv[\" x \"]string(count goes;count cols goes);"
   ]
  },
  {
   "cell_type": "code",
   "execution_count": 2,
   "metadata": {
    "collapsed": true
   },
   "outputs": [],
   "source": [
    "/utils\n",
    "splitIdx:{[x;y]k:neg[n]?n:count y;p:floor x*n;(p _ k;p#k)}\n",
    "metrics:{$[1=count key x;\n",
    "            [$[first key x;[`tp set first value x;`tn`fn`fp set'3#0];[`tn set first value x;`tp`fn`fp set'3#0]]];\n",
    "            [`tn`fn set'first x;`fp`tp set'last x]];\n",
    "         100*precdict`tn`fn`fp`tp!(tn;fn;fp;tp)}\n",
    "getTabDate:{[dt;cfg;t]?[t;enlist(=;`date;dt);0b;{x!x}exec colname from cfg where table=t]}\n",
    "predVal:{[t;hr]t lj 2!?[t;();0b;(`dt`cs,`$\"sigPhiVer\",string[hr],\"hr\")!((-;`dt;\"u\"$60*hr);`cs;`sigPhiVer)]}"
   ]
  },
  {
   "cell_type": "code",
   "execution_count": 3,
   "metadata": {},
   "outputs": [
    {
     "name": "stdout",
     "output_type": "stream",
     "text": [
      "Selecting data from 2015.01.01 - 2015.08.31\n",
      "\n",
      "dt                            doy cs  tec      dtec   SI    specSlope s4         sigPhiVer  Bz   ..\n",
      "-------------------------------------------------------------------------------------------------..\n",
      "2015.01.01D00:00:00.000000000 1   arv 16.31073 0.285  0.014 1.77      0.04130524 0.03474961 1.05 ..\n",
      "2015.01.01D00:00:00.000000000 1   chu 20.58558 0.003  0.009 1.89      0.03389442 0.03238033 1.05 ..\n",
      "2015.01.01D00:00:00.000000000 1   cor 17.63518 0.072  0.013 2.06      0.04001991 0.0569824  1.05 ..\n",
      "2015.01.01D00:00:00.000000000 1   edm 26.65708 -0.046 0.01  1.86      0.0443945  0.03070174 1.05 ..\n",
      "2015.01.01D00:00:00.000000000 1   fsi 27.10333 -0.011 0.008 1.77      0.02914058 0.02512171 1.05 ..\n",
      "2015.01.01D00:00:00.000000000 1   fsm 21.78102 -0.033 0.009 1.83      0.02766845 0.02570405 1.05 ..\n",
      "2015.01.01D00:00:00.000000000 1   gil 24.6702  -0.009 0.012 2.06      0.03305384 0.07465466 1.05 ..\n",
      "..\n",
      "\n",
      "Shape of merged chain and solar tables is 3659237 x 41\n"
     ]
    }
   ],
   "source": [
    "sdateSVM:2015.01.01\n",
    "edateSVM:2015.08.31\n",
    "\n",
    "1\"Selecting data from \",sv[\" - \";string sdateSVM,edateSVM],\"\\n\\n\";\n",
    "\n",
    "getAllDateSVM:{[dt]\n",
    "  r:tabs!getTabDate[dt;configSVM;]each tabs:`chain`solar`goes;\n",
    "  t:select from(r[`chain]lj`dt xkey update solarMatch:1b from r`solar)where solarMatch; \n",
    "  select from(t lj`dt xkey update goesMatch:1b from r`goes)where goesMatch}\n",
    "show completeSVM:raze getAllDateSVM peach sdateSVM+til 1+edateSVM-sdateSVM\n",
    "\n",
    "-1\"\\nShape of merged chain and solar tables is \",sv[\" x \"]string shape completeSVM;"
   ]
  },
  {
   "cell_type": "markdown",
   "metadata": {},
   "source": [
    "### 1.2 Extra Features\n",
    "Scintillation events are subject to seasonal variations. To account for this, the sine and cosine time of day and day of year were added to the data. For the baseline, only the cosine day of year is added.\n",
    "\n",
    "$$\\begin{eqnarray}\n",
    "cosdoy = cos\\Big(\\frac{2 \\pi doy}{D_{tot}}\\Big), && sindoy = sin\\Big(\\frac{2 \\pi doy}{D_{tot}}\\Big)\n",
    "\\end{eqnarray}$$\n",
    "$$ $$\n",
    "$$\\begin{eqnarray}\n",
    "costime = cos\\Big(\\frac{2 \\pi dt}{T_{tot}}\\Big), && sintime = sin\\Big(\\frac{2 \\pi dt}{T_{tot}}\\Big)\n",
    "\\end{eqnarray}$$\n",
    "\n",
    "where $doy$ is the day of year, $D_{tot}$ is the number of days in the year (365 for this model), $dt$ is the time in minutes and $T_{tot}$ is the number of minutes in a day. The feature names must be added to the configuration table, with relevant scaling, to allow for scaling at a later stage."
   ]
  },
  {
   "cell_type": "code",
   "execution_count": 4,
   "metadata": {},
   "outputs": [],
   "source": [
    "completeSVM:update cosdoy:cos 2*pi*doy%365 from completeSVM\n",
    "configSVM,:(`completeSVM;`cosdoy;1b;log1p)"
   ]
  },
  {
   "cell_type": "markdown",
   "metadata": {},
   "source": [
    "### 1.3 Target Data\n",
    "The occurrence of scintillation events are shown by sudden irregularities in a number of features, specifically the phase scintillation index, $\\sigma_\\phi$, which is projected to the vertical throughout this work (sigPhiVer). As the baseline looks at predicting scintillation 1 hour ahead, the value of $\\sigma_\\phi$ 1 hour ahead of the current timestep (sigPhiVer_1hr) was used as target data for the models.\n",
    "\n",
    "Ideally, data would have been recorded for each CHAIN station, at every minute throughout 2015. However, receivers can experience faults which lead to timesteps with no recorded data. To examine where these gaps occur in the data, a list containing timesteps for 2015, with minute granularity, can be merged to the full data table, with target values plotted for each timestep."
   ]
  },
  {
   "cell_type": "code",
   "execution_count": 5,
   "metadata": {
    "collapsed": true
   },
   "outputs": [],
   "source": [
    "/import python libraries using embedPy\n",
    "array: .p.import[`numpy]`:array\n",
    "plt:   .p.import[`matplotlib]`:pyplot\n",
    "svc:   .p.import[`sklearn.svm]`:SVC"
   ]
  },
  {
   "cell_type": "code",
   "execution_count": 6,
   "metadata": {},
   "outputs": [
    {
     "name": "stdout",
     "output_type": "stream",
     "text": [
      "Phase scintillation index per CHAIN station from 2015.01.01 - 2015.08.31\n",
      "\n"
     ]
    },
    {
     "data": {
      "image/png": "[encoded data removed]",
      "text/plain": [
       "<matplotlib.figure.Figure at 0x7f7844ec0438>"
      ]
     },
     "metadata": {},
     "output_type": "display_data"
    }
   ],
   "source": [
    "1\"Phase scintillation index per CHAIN station from \",(sv[\" - \"]string(sdateSVM;edateSVM)),\"\\n\\n\";\n",
    "\n",
    "plt[`:figure]`figsize pykw 20 12;\n",
    "{ stn:(distinct completeSVM`cs)x;\n",
    "  tab:exec dt,cs,sigPhiVer from completeSVM where cs=stn;\n",
    "  plt[`:subplot]. 7 2,x+1;\n",
    "  plt[`:title]string stn:(distinct completeSVM`cs)x;\n",
    "  plt[`:xlabel]\"Timestep\";\n",
    "  plt[`:ylabel]\"sigPhiVer\";\n",
    "  plt[`:plot][tab`dt;tab`sigPhiVer];\n",
    " }each til 14;\n",
    "\n",
    "plt[`:tight_layout][];\n",
    "plt[`:show][];"
   ]
  },
  {
   "cell_type": "markdown",
   "metadata": {},
   "source": [
    "### 1.4 Feature Engineering\n",
    "To account for gaps in the data, rows containing nulls will be dropped. As ML models are sensitive to inputs with large ranges, some features in the input data were log(1+x) scaled (as defined in the SVM configuration table). All features will be standard scaled at a later stage, before feeding the data to the SVM classifier."
   ]
  },
  {
   "cell_type": "code",
   "execution_count": 7,
   "metadata": {},
   "outputs": [
    {
     "name": "stdout",
     "output_type": "stream",
     "text": [
      "Scintillation events:\n",
      "\n",
      "scintillation| num   pcnt \n",
      "-------------| -----------\n",
      "0            | 59651 97.77\n",
      "1            | 1362  2.23 \n",
      "\n",
      "2.23 percent of the target values represent scintillation occurring.\n"
     ]
    }
   ],
   "source": [
    "completeSVM@:where not any flip null completeSVM\n",
    "completeSVM:flip(exec first scaler by colname from configSVM)@'flip completeSVM\n",
    "\n",
    "-1\"Scintillation events:\\n\";\n",
    "show distSVM:update pcnt:round[;.01]100*num%sum num from select num:count i by scintillation from([]scintillation:.1<completeSVM`sigPhiVer)\n",
    "-1\"\\n\",(string first exec pcnt from select pcnt from distSVM where scintillation),\" percent of the target values represent scintillation occurring.\";"
   ]
  },
  {
   "cell_type": "code",
   "execution_count": 8,
   "metadata": {},
   "outputs": [],
   "source": [
    "/add target columns for each prediction time\n",
    "completeSVM:predVal/[completeSVM;predTime]"
   ]
  },
  {
   "cell_type": "code",
   "execution_count": 9,
   "metadata": {
    "scrolled": true
   },
   "outputs": [
    {
     "name": "stdout",
     "output_type": "stream",
     "text": [
      "ALL| +`AE`AE_15`AE_30`By`By_15`By_30`Bz`Bz_15`Bz_30`GOESx`P`P_15`P_30`SI`V`V_15`V_30`borovsky`bor..\n",
      "arv| +`AE`AE_15`AE_30`By`By_15`By_30`Bz`Bz_15`Bz_30`GOESx`P`P_15`P_30`SI`V`V_15`V_30`borovsky`bor..\n",
      "chu| +`AE`AE_15`AE_30`By`By_15`By_30`Bz`Bz_15`Bz_30`GOESx`P`P_15`P_30`SI`V`V_15`V_30`borovsky`bor..\n",
      "cor| +`AE`AE_15`AE_30`By`By_15`By_30`Bz`Bz_15`Bz_30`GOESx`P`P_15`P_30`SI`V`V_15`V_30`borovsky`bor..\n",
      "edm| +`AE`AE_15`AE_30`By`By_15`By_30`Bz`Bz_15`Bz_30`GOESx`P`P_15`P_30`SI`V`V_15`V_30`borovsky`bor..\n",
      "fsi| +`AE`AE_15`AE_30`By`By_15`By_30`Bz`Bz_15`Bz_30`GOESx`P`P_15`P_30`SI`V`V_15`V_30`borovsky`bor..\n",
      "fsm| +`AE`AE_15`AE_30`By`By_15`By_30`Bz`Bz_15`Bz_30`GOESx`P`P_15`P_30`SI`V`V_15`V_30`borovsky`bor..\n",
      "gil| +`AE`AE_15`AE_30`By`By_15`By_30`Bz`Bz_15`Bz_30`GOESx`P`P_15`P_30`SI`V`V_15`V_30`borovsky`bor..\n",
      "gjo| +`AE`AE_15`AE_30`By`By_15`By_30`Bz`Bz_15`Bz_30`GOESx`P`P_15`P_30`SI`V`V_15`V_30`borovsky`bor..\n",
      "..\n"
     ]
    }
   ],
   "source": [
    "/separate data\n",
    "show svmData:(`ALL,stn)!enlist[completeSVM],{select from completeSVM where cs=x}each stn:distinct completeSVM`cs"
   ]
  },
  {
   "cell_type": "markdown",
   "metadata": {},
   "source": [
    "### 1.5 Metrics\n",
    "As only 3% of the data represented scintillation occuring, it would have been easy to create a model which produced high accuracy. A naive model which predicted that scintillation never occured would still have been correct 97% of the time. Additional metrics, including the Total Skill Statistic (TSS) will be used to determine how well the models perform.\n",
    "$$\\begin{equation}TSS=\\frac{TP}{TP+FN}-\\frac{FP}{FP+TN}\\end{equation}$$\n",
    "\n",
    "where $TP$, $TN$, $FP$ and $FN$ are true positives, true negatives, false positives and false negatives respectively."
   ]
  },
  {
   "cell_type": "markdown",
   "metadata": {},
   "source": [
    "### 1.6 Running model for ARV station\n",
    "Below, a total of **40,000** random data points will be selected. X data is selected according to the SVM configuration table and y data is sigmaPhiVer_1hr to allow 1 hour prediction. Standard scaling will be applied to x data to remove the mean and scale each feature to unit variance. Meanwhile, target data will be left unscaled and assigned a binary value.\n",
    "\n",
    "When scintillation events take place, $\\sigma_\\phi$ will have a value which is greater than 0.1 radians. Therefore, target data will be assigned a value of 1 if greater than 0.1 radians (positive class) and 0 with a value below (negative class).\n",
    "\n",
    "Initially, two sets of shuffled indices are produced, covering the full set of indices in the data. These indices will then be used to split x and y data into split into training (80%) and testing (20%) sets."
   ]
  },
  {
   "cell_type": "code",
   "execution_count": 10,
   "metadata": {},
   "outputs": [
    {
     "name": "stdout",
     "output_type": "stream",
     "text": [
      "xtrn| +`tec`dtec`SI`specSlope`s4`sigPhiVer`Bz`Bz_15`Bz_30`By`By_15`By_30`V`V_15`V_30`P`P_15`P_30`..\n",
      "ytrn| 0000000000000000000000000000000000000000000000010000000010000000000000000000000000000000000..\n",
      "xtst| +`tec`dtec`SI`specSlope`s4`sigPhiVer`Bz`Bz_15`Bz_30`By`By_15`By_30`V`V_15`V_30`P`P_15`P_30`..\n",
      "ytst| 0000000000000000000000001000000000000000000000000000000000000000000000000000000000000000000..\n"
     ]
    }
   ],
   "source": [
    "\\S 10\n",
    "\n",
    "sampleSVM:t neg[c]?c:count t:svmData`arv\n",
    "xSVM:flip stdscaler each flip(exec colname from configSVM where feature)#sampleSVM\n",
    "ySVM:.1<sampleSVM first predCol\n",
    "show svmInputs:`xtrn`ytrn`xtst`ytst!raze(xSVM;ySVM)@\\:/:splitIdx[.2;ySVM]"
   ]
  },
  {
   "cell_type": "code",
   "execution_count": 11,
   "metadata": {},
   "outputs": [
    {
     "name": "stdout",
     "output_type": "stream",
     "text": [
      "Training SVM model for a single station took 00:00:05.782\n"
     ]
    }
   ],
   "source": [
    "start:.z.T;\n",
    "svmModel:svc[`kernel pykw`rbf;`C pykw .1;`gamma pykw .01;`class_weight pykw enlist[1]!enlist 50;`probability pykw 1b];\n",
    "svmModel[`:fit][array[value flip svmInputs`xtrn]`:T;svmInputs`ytrn];\n",
    "-1\"Training SVM model for a single station took \",string .z.T-start;"
   ]
  },
  {
   "cell_type": "markdown",
   "metadata": {},
   "source": [
    "Now that the model has been trained, it will can be used to make predictions using test data. These predictions will be compared with y test values using a confusion matrix."
   ]
  },
  {
   "cell_type": "code",
   "execution_count": 12,
   "metadata": {},
   "outputs": [
    {
     "name": "stdout",
     "output_type": "stream",
     "text": [
      "Confusion matrix results for SVM model trained/tested on ARC:\n",
      "\n",
      "0| 940 11\n",
      "1| 150 6 \n",
      "\n",
      "Performance metric results:\n",
      "\n",
      "model      | `SVM\n",
      "cs         | `arc\n",
      "pred       | `sigPhiVer1hr\n",
      "accuracy   | 85.45619\n",
      "errorRate  | 14.54381\n",
      "precision  | 3.846154\n",
      "recall     | 35.29412\n",
      "specificity| 86.23853\n",
      "TSS        | 0.2153265\n"
     ]
    }
   ],
   "source": [
    "svmPred:svmModel[`:predict][array[value flip svmInputs`xtst]`:T]`\n",
    "-1\"Confusion matrix results for SVM model trained/tested on ARC:\\n\";\n",
    "show svmCM:cfm[svmInputs`ytst;svmPred]\n",
    "-1\"\\nPerformance metric results:\\n\";\n",
    "show(`model`cs`pred!(`SVM;`arc;first predCol)),metrics svmCM"
   ]
  },
  {
   "cell_type": "markdown",
   "metadata": {},
   "source": [
    "### 1.7 Running model for all stations and prediction times"
   ]
  },
  {
   "cell_type": "code",
   "execution_count": 13,
   "metadata": {
    "collapsed": true
   },
   "outputs": [],
   "source": [
    "\\S 20\n",
    "\n",
    "trainPredSVM:{[stn;col]\n",
    "\n",
    "  sample:t neg[c]?c:count t:svmData stn;\n",
    "  xdata:flip stdscaler each flip(exec colname from configSVM where feature)#sample;\n",
    "  ydata:.1<sample col;\n",
    "  r:`xtrn`ytrn`xtst`ytst!raze(xdata;ydata)@\\:/:splitIdx[.2;ydata];\n",
    "\n",
    "  start:.z.T;\n",
    "  model:svc[`kernel pykw`rbf;`C pykw .1;`gamma pykw .01;`class_weight pykw enlist[1]!enlist 50;`probability pykw 1b];\n",
    "  if[(::)~ .[model[`:fit];(array[value flip r`xtrn]`:T;r`ytrn);{[e] -2\"Error: \",e;}];:()];\n",
    "  -1\"Training SVM model for a single station took \",string .z.T-start;\n",
    "\n",
    "  pred:model[`:predict][array[value flip r`xtst]`:T]`; \n",
    "  CM:cfm[r`ytst;pred];\n",
    "  (`model`cs`pred!(`SVM;stn;col)),metrics CM\n",
    "\n",
    "  }"
   ]
  },
  {
   "cell_type": "markdown",
   "metadata": {},
   "source": [
    "The baseline model uses combined data from all stations. Therefore, the model will first be trained and tested using combined data, and then run using data from individual stations."
   ]
  },
  {
   "cell_type": "code",
   "execution_count": 78,
   "metadata": {
    "scrolled": true
   },
   "outputs": [
    {
     "name": "stdout",
     "output_type": "stream",
     "text": [
      "Training SVM model for a single station took 00:26:12.941\n",
      "Training SVM model for a single station took 00:33:55.127\n",
      "Training SVM model for a single station took 00:38:41.533\n",
      "Training SVM model for a single station took 00:39:46.496\n",
      "Training SVM model for a single station took 00:39:17.776\n",
      "Training SVM model for a single station took 00:39:06.146\n",
      "Training SVM model for a single station took 00:00:06.171\n",
      "Training SVM model for a single station took 00:00:07.365\n",
      "Training SVM model for a single station took 00:00:07.715\n",
      "Training SVM model for a single station took 00:00:07.768\n",
      "Training SVM model for a single station took 00:00:08.322\n",
      "Training SVM model for a single station took 00:00:08.192\n",
      "Training SVM model for a single station took 00:00:04.655\n",
      "Training SVM model for a single station took 00:00:05.694\n",
      "Training SVM model for a single station took 00:00:06.771\n",
      "Training SVM model for a single station took 00:00:06.972\n",
      "Training SVM model for a single station took 00:00:07.493\n",
      "Training SVM model for a single station took 00:00:06.997\n",
      "Training SVM model for a single station took 00:00:03.045\n",
      "Training SVM model for a single station took 00:00:03.846\n",
      "Training SVM model for a single station took 00:00:04.014\n",
      "Training SVM model for a single station took 00:00:04.464\n",
      "Training SVM model for a single station took 00:00:04.254\n",
      "Training SVM model for a single station took 00:00:04.738\n",
      "Training SVM model for a single station took 00:00:00.398\n",
      "Training SVM model for a single station took 00:00:00.671\n",
      "Training SVM model for a single station took 00:00:00.852\n",
      "Training SVM model for a single station took 00:00:00.830\n",
      "Training SVM model for a single station took 00:00:00.955\n",
      "Training SVM model for a single station took 00:00:00.868\n",
      "Training SVM model for a single station took 00:00:04.299\n",
      "Training SVM model for a single station took 00:00:05.834\n",
      "Training SVM model for a single station took 00:00:07.018\n",
      "Training SVM model for a single station took 00:00:06.423\n",
      "Training SVM model for a single station took 00:00:06.614\n",
      "Training SVM model for a single station took 00:00:06.562\n",
      "Training SVM model for a single station took 00:00:04.270\n",
      "Training SVM model for a single station took 00:00:05.213\n",
      "Training SVM model for a single station took 00:00:06.250\n",
      "Training SVM model for a single station took 00:00:06.516\n",
      "Training SVM model for a single station took 00:00:06.493\n",
      "Training SVM model for a single station took 00:00:06.608\n",
      "Training SVM model for a single station took 00:00:09.613\n",
      "Training SVM model for a single station took 00:00:09.954\n",
      "Training SVM model for a single station took 00:00:09.862\n",
      "Training SVM model for a single station took 00:00:09.967\n",
      "Training SVM model for a single station took 00:00:09.821\n",
      "Training SVM model for a single station took 00:00:09.916\n",
      "Training SVM model for a single station took 00:00:05.457\n",
      "Training SVM model for a single station took 00:00:06.576\n",
      "Training SVM model for a single station took 00:00:07.012\n",
      "Training SVM model for a single station took 00:00:06.885\n",
      "Training SVM model for a single station took 00:00:06.555\n",
      "Training SVM model for a single station took 00:00:06.983\n",
      "Training SVM model for a single station took 00:00:03.937\n",
      "Training SVM model for a single station took 00:00:04.903\n",
      "Training SVM model for a single station took 00:00:07.178\n",
      "Training SVM model for a single station took 00:00:07.706\n",
      "Training SVM model for a single station took 00:00:07.843\n",
      "Training SVM model for a single station took 00:00:07.479\n",
      "Training SVM model for a single station took 00:00:03.523\n",
      "Training SVM model for a single station took 00:00:04.366\n",
      "Training SVM model for a single station took 00:00:04.815\n",
      "Training SVM model for a single station took 00:00:05.811\n",
      "Training SVM model for a single station took 00:00:05.580\n",
      "Training SVM model for a single station took 00:00:05.453\n",
      "Training SVM model for a single station took 00:00:06.385\n",
      "Training SVM model for a single station took 00:00:07.787\n",
      "Training SVM model for a single station took 00:00:08.204\n",
      "Training SVM model for a single station took 00:00:08.228\n",
      "Training SVM model for a single station took 00:00:08.377\n",
      "Training SVM model for a single station took 00:00:08.991\n",
      "Training SVM model for a single station took 00:00:05.026\n",
      "Training SVM model for a single station took 00:00:05.160\n",
      "Training SVM model for a single station took 00:00:05.602\n",
      "Training SVM model for a single station took 00:00:05.412\n",
      "Training SVM model for a single station took 00:00:05.351\n",
      "Training SVM model for a single station took 00:00:05.623\n",
      "Training SVM model for a single station took 00:00:00.042\n",
      "Training SVM model for a single station took 00:00:00.025\n",
      "Training SVM model for a single station took 00:00:00.051\n",
      "Training SVM model for a single station took 00:00:00.024\n",
      "Training SVM model for a single station took 00:00:00.046\n",
      "Training SVM model for a single station took 00:00:00.019\n",
      "Training SVM model for a single station took 00:00:00.027\n",
      "Training SVM model for a single station took 00:00:00.024\n",
      "Training SVM model for a single station took 00:00:00.024\n"
     ]
    },
    {
     "name": "stderr",
     "output_type": "stream",
     "text": [
      "Error: call: Class label 1 not present.\n"
     ]
    },
    {
     "name": "stdout",
     "output_type": "stream",
     "text": [
      "Training SVM model for a single station took 00:00:00.021\n"
     ]
    },
    {
     "name": "stderr",
     "output_type": "stream",
     "text": [
      "Error: call: Class label 1 not present.\n"
     ]
    },
    {
     "name": "stdout",
     "output_type": "stream",
     "text": [
      "Total SVM training time: 03:48:13.280\n"
     ]
    }
   ],
   "source": [
    "start:.z.T;\n",
    "svmRes:trainPredSVM . '(`ALL,stn)cross predCol\n",
    "-1\"Total SVM training time: \",string .z.T-start;"
   ]
  },
  {
   "cell_type": "code",
   "execution_count": 104,
   "metadata": {},
   "outputs": [
    {
     "name": "stdout",
     "output_type": "stream",
     "text": [
      "model cs  pred          accuracy errorRate precision recall   specificity TSS         \n",
      "--------------------------------------------------------------------------------------\n",
      "SVM   ALL sigPhiVer1hr  82.84707 17.15293  10.54482  80.80808 82.89794    0.6370602   \n",
      "SVM   ALL sigPhiVer3hr  74.53696 25.46304  5.882353  78.92562 74.44816    0.5337378   \n",
      "SVM   ALL sigPhiVer6hr  71.41452 28.58548  4.87601   70.28112 71.43813    0.4171926   \n",
      "SVM   ALL sigPhiVer9hr  67.75938 32.24062  4.817194  70.65217 67.69244    0.3834461   \n",
      "SVM   ALL sigPhiVer12hr 69.6771  30.3229   4.914586  69.51673 69.68072    0.3919745   \n",
      "SVM   ALL sigPhiVer24hr 72.50451 27.49549  4.947614  65.63707 72.65344    0.382905    \n",
      "SVM   arv sigPhiVer1hr  86.72087 13.27913  10.96774  65.38462 87.23404    0.5261866   \n",
      "SVM   arv sigPhiVer3hr  86.5402  13.4598   8.176101  81.25    86.61778    0.6786778   \n",
      "SVM   arv sigPhiVer6hr  82.65583 17.34417  4.568528  69.23077 82.81536    0.5204613   \n",
      "SVM   arv sigPhiVer9hr  82.47516 17.52484  3.703704  36.84211 83.27206    0.2011416   \n",
      "SVM   arv sigPhiVer12hr 78.04878 21.95122  3.278689  53.33333 78.38828    0.3172161   \n",
      "SVM   arv sigPhiVer24hr 85.45619 14.54381  3.378378  21.73913 86.80812    0.08547249  \n",
      "SVM   chu sigPhiVer1hr  89.68326 10.31674  6.19469   46.66667 90.27523    0.369419    \n",
      "SVM   chu sigPhiVer3hr  86.42534 13.57466  3.378378  41.66667 86.91674    0.2858341   \n",
      "SVM   chu sigPhiVer6hr  89.23077 10.76923  0.9174312 8.333333 90.11894    -0.01547728 \n",
      "SVM   chu sigPhiVer9hr  92.39819 7.60181   5.405405  22.22222 93.56026    0.1578248   \n",
      "SVM   chu sigPhiVer12hr 89.04977 10.95023  2.586207  27.27273 89.67093    0.1694366   \n",
      "SVM   chu sigPhiVer24hr 92.85068 7.149321  2.816901  16.66667 93.6871     0.1035377   \n",
      "SVM   cor sigPhiVer1hr  79.375   20.625    7.058824  63.15789 79.76953    0.4292742   \n",
      "SVM   cor sigPhiVer3hr  80.875   19.125    5.844156  52.94118 81.48148    0.3442266   \n",
      "SVM   cor sigPhiVer6hr  79.25    20.75     7.100592  57.14286 79.84596    0.3698881   \n",
      "SVM   cor sigPhiVer9hr  68.375   31.625    3.125     61.53846 68.48793    0.3002639   \n",
      "SVM   cor sigPhiVer12hr 77.5     22.5      3.468208  31.57895 78.61716    0.101961    \n",
      "SVM   cor sigPhiVer24hr 70f      30f       1.282051  25       70.68528    -0.04314721 \n",
      "SVM   edm sigPhiVer1hr  97.33333 2.666667  7.142857  25       97.81879    0.2281879   \n",
      "SVM   edm sigPhiVer3hr  94.66667 5.333333  8.571429  100      94.63987    0.9463987   \n",
      "SVM   edm sigPhiVer6hr  95.16667 4.833333  9.677419  75       95.30201    0.7030201   \n",
      "SVM   edm sigPhiVer9hr  98.66667 1.333333  16.66667  25       99.16107    0.2416107   \n",
      "SVM   edm sigPhiVer12hr 98.33333 1.666667  0         0        98.4975     -0.01502504 \n",
      "SVM   edm sigPhiVer24hr 97.83333 2.166667  8.333333  33.33333 98.15745    0.3149079   \n",
      "SVM   fsi sigPhiVer1hr  89.75521 10.24479  4.347826  62.5     89.95434    0.5245434   \n",
      "SVM   fsi sigPhiVer3hr  87.39801 12.60199  2.205882  33.33333 87.84278    0.2117611   \n",
      "SVM   fsi sigPhiVer6hr  85.67543 14.32457  1.935484  33.33333 86.10603    0.1943937   \n",
      "SVM   fsi sigPhiVer9hr  91.84044 8.159565  4.878049  25       92.82429    0.1782429   \n",
      "SVM   fsi sigPhiVer12hr 89.21124 10.78876  3.478261  33.33333 89.82585    0.2315918   \n",
      "SVM   fsi sigPhiVer24hr 90.29918 9.700816  3.092784  18.75    91.35235    0.1010235   \n",
      "SVM   fsm sigPhiVer1hr  87.03008 12.96992  2.898551  50       87.31061    0.3731061   \n",
      "SVM   fsm sigPhiVer3hr  89.66165 10.33835  6.422018  46.66667 90.27645    0.3694312   \n",
      "SVM   fsm sigPhiVer6hr  88.43985 11.56015  4.273504  31.25    89.31298    0.2056298   \n",
      "SVM   fsm sigPhiVer9hr  90.22556 9.774436  3.157895  20       91.22974    0.1122974   \n",
      "SVM   fsm sigPhiVer12hr 91.63534 8.364662  2.597403  12.5     92.84351    0.05343511  \n",
      "SVM   fsm sigPhiVer24hr 89.09774 10.90226  2.803738  20       90.0858     0.100858    \n",
      "SVM   gil sigPhiVer1hr  48.2243  51.7757   10.23102  86.11111 45.49098    0.3160209   \n",
      "SVM   gil sigPhiVer3hr  17.38318 82.61682  7.337526  100      11.6        0.116       \n",
      "SVM   gil sigPhiVer6hr  10.93458 89.06542  7.302824  98.68421 4.225352    0.02909563  \n",
      "SVM   gil sigPhiVer9hr  8.971963 91.02804  7.590133  100      1.616162    0.01616162  \n",
      "SVM   gil sigPhiVer12hr 8.598131 91.40187  6.870229  97.2973  2.008032    -0.006946706\n",
      "SVM   gil sigPhiVer24hr 7.943925 92.05607  6.987724  100      1.104418    0.01104418  \n",
      "SVM   gjo sigPhiVer1hr  73.88664 26.11336  6.343284  70.83333 73.96266    0.4479599   \n",
      "SVM   gjo sigPhiVer3hr  58.09717 41.90283  7.466063  86.84211 56.94737    0.4378947   \n",
      "SVM   gjo sigPhiVer6hr  59.0081  40.9919   8.466819  88.09524 57.7167     0.4581194   \n",
      "SVM   gjo sigPhiVer9hr  67.51012 32.48988  5.637982  86.36364 67.08075    0.5344438   \n",
      "SVM   gjo sigPhiVer12hr 67.71255 32.28745  7.894737  87.09677 67.08464    0.5418141   \n",
      "SVM   gjo sigPhiVer24hr 61.23482 38.76518  6.142506  96.15385 60.29106    0.5644491   \n",
      "SVM   mcm sigPhiVer1hr  88.66906 11.33094  5.30303   87.5     88.67754    0.7617754   \n",
      "SVM   mcm sigPhiVer3hr  83.63309 16.36691  8.673469  85       83.60806    0.6860806   \n",
      "SVM   mcm sigPhiVer6hr  82.64388 17.35612  4.712042  45       83.33333    0.2833333   \n",
      "SVM   mcm sigPhiVer9hr  81.83453 18.16547  3.571429  35       82.69231    0.1769231   \n",
      "SVM   mcm sigPhiVer12hr 76.70863 23.29137  3.030303  72.72727 76.74841    0.4947568   \n",
      "SVM   mcm sigPhiVer24hr 73.20144 26.79856  5.769231  81.81818 73.02752    0.548457    \n",
      "SVM   rab sigPhiVer1hr  89.95984 10.04016  8.333333  90       89.95943    0.7995943   \n",
      "SVM   rab sigPhiVer3hr  91.16466 8.835341  5.681818  50       91.58215    0.4158215   \n",
      "SVM   rab sigPhiVer6hr  91.06426 8.935743  5.813953  38.46154 91.75992    0.3022146   \n",
      "SVM   rab sigPhiVer9hr  86.54618 13.45382  2.919708  80       86.57921    0.6657921   \n",
      "SVM   rab sigPhiVer12hr 87.3494  12.6506   5.343511  77.77778 87.43668    0.6521445   \n",
      "SVM   rab sigPhiVer24hr 87.14859 12.85141  1.6       28.57143 87.5632     0.1613462   \n",
      "SVM   ran sigPhiVer1hr  76.41073 23.58927  5.639098  78.94737 76.36535    0.5531272   \n",
      "SVM   ran sigPhiVer3hr  79.27845 20.72155  6.465517  68.18182 79.50897    0.4769079   \n",
      "SVM   ran sigPhiVer6hr  70.02775 29.97225  5.059524  77.27273 69.87724    0.4714997   \n",
      "SVM   ran sigPhiVer9hr  77.15079 22.84921  5.714286  46.66667 78.02093    0.246876    \n",
      "SVM   ran sigPhiVer12hr 68.45513 31.54487  1.796407  31.57895 69.11488    0.00693825  \n",
      "SVM   ran sigPhiVer24hr 60.22202 39.77798  2.968037  72.22222 60.01881    0.3224104   \n",
      "SVM   rep sigPhiVer1hr  47.91667 52.08333  5.393258  85.71429 46.5736     0.3228789   \n",
      "SVM   rep sigPhiVer3hr  46.69118 53.30882  4.899777  73.33333 45.6743     0.1900763   \n",
      "SVM   rep sigPhiVer6hr  30.02451 69.97549  5.315615  96.9697  27.20307    0.2417276   \n",
      "SVM   rep sigPhiVer9hr  38.84804 61.15196  4.440154  85.18519 37.26236    0.2244754   \n",
      "SVM   rep sigPhiVer12hr 43.62745 56.37255  6.004141  82.85714 41.8694     0.2472654   \n",
      "SVM   rep sigPhiVer24hr 19.60784 80.39216  3.976436  87.09677 16.94268    0.04039449  \n",
      "SVM   arc sigPhiVer1hr  ,100f    ,0f                          ,100f       ,0n         \n",
      "SVM   arc sigPhiVer3hr  ,100f    ,0f                          ,100f       ,0n         \n",
      "SVM   arc sigPhiVer6hr  ,100f    ,0f                          ,100f       ,0n         \n",
      "SVM   arc sigPhiVer9hr  ,100f    ,0f                          ,100f       ,0n         \n",
      "SVM   arc sigPhiVer12hr 99.46524 0.5347594 0                  99.46524    0n          \n",
      "SVM   arc sigPhiVer24hr ,100f    ,0f                          ,100f       ,0n         \n",
      "SVM   gri sigPhiVer1hr  ,100f    ,0f                          ,100f       ,0n         \n",
      "SVM   gri sigPhiVer3hr  ,100f    ,0f                          ,100f       ,0n         \n",
      "SVM   gri sigPhiVer6hr  ,100f    ,0f                          ,100f       ,0n         \n",
      "SVM   gri sigPhiVer12hr 99.40476 0.5952381 0                  99.40476    0n          \n"
     ]
    }
   ],
   "source": [
    "show svmRes:svmRes except svmRes[87 89]"
   ]
  },
  {
   "cell_type": "markdown",
   "metadata": {},
   "source": [
    "### 1.8 MCM model\n",
    "Train the SVM model using data **32,000** random points from the Fort McMurray (mcm) station and test using **8,000** points from each of the remaining stations."
   ]
  },
  {
   "cell_type": "code",
   "execution_count": 18,
   "metadata": {},
   "outputs": [
    {
     "name": "stdout",
     "output_type": "stream",
     "text": [
      "Training SVM model for MCM station took 00:00:05.994\n"
     ]
    }
   ],
   "source": [
    "\\S 30\n",
    "\n",
    "sampleMCM:m neg[c]?c:count m:svmData`mcm;\n",
    "xtrnMCM:flip stdscaler each flip(exec colname from configSVM where feature)#sampleMCM;\n",
    "ytrnMCM:.1<sampleMCM first predCol;\n",
    "\n",
    "start:.z.T;\n",
    "mcmModel:svc[`kernel pykw`rbf;`C pykw .1;`gamma pykw .01;`class_weight pykw enlist[1]!enlist 50;`probability pykw 1b];\n",
    "mcmModel[`:fit][array[value flip xtrnMCM]`:T;ytrnMCM];\n",
    "-1\"Training SVM model for MCM station took \",string .z.T-start;"
   ]
  },
  {
   "cell_type": "code",
   "execution_count": 20,
   "metadata": {},
   "outputs": [],
   "source": [
    "\\S 40\n",
    "\n",
    "predMCM:{[stn;col]\n",
    "\n",
    "  sampleTst:r neg[c]?c:count r:svmData stn;\n",
    "  xtst:flip stdscaler each flip(exec colname from configSVM where feature)#sampleTst;\n",
    "  ytst:.1<sampleTst col;\n",
    "\n",
    "  start:.z.T;\n",
    "  pred:mcmModel[`:predict][array[value flip xtst]`:T]`;\n",
    "  -1\"Testing SVM model for a single station took \",string .z.T-start;\n",
    "\n",
    "  CM:cfm[ytst;pred];\n",
    "  (`model`cs`pred!(`MCM;stn;col)),metrics CM\n",
    "\n",
    "  }"
   ]
  },
  {
   "cell_type": "code",
   "execution_count": 21,
   "metadata": {
    "scrolled": true
   },
   "outputs": [
    {
     "name": "stdout",
     "output_type": "stream",
     "text": [
      "Testing SVM model for a single station took 00:00:00.833\n",
      "Testing SVM model for a single station took 00:00:00.793\n",
      "Testing SVM model for a single station took 00:00:00.564\n",
      "Testing SVM model for a single station took 00:00:00.433\n",
      "Testing SVM model for a single station took 00:00:00.781\n",
      "Testing SVM model for a single station took 00:00:00.772\n",
      "Testing SVM model for a single station took 00:00:00.765\n",
      "Testing SVM model for a single station took 00:00:00.703\n",
      "Testing SVM model for a single station took 00:00:00.704\n",
      "Testing SVM model for a single station took 00:00:00.767\n",
      "Testing SVM model for a single station took 00:00:00.574\n",
      "Testing SVM model for a single station took 00:00:00.135\n",
      "Testing SVM model for a single station took 00:00:00.121\n",
      "Total MCM model training time: 00:00:08.324\n"
     ]
    }
   ],
   "source": [
    "start:.z.T;\n",
    "mcmRes:predMCM . 'except[stn;`mcm]cross first predCol\n",
    "-1\"Total MCM model training time: \",string .z.T-start;"
   ]
  },
  {
   "cell_type": "code",
   "execution_count": 22,
   "metadata": {},
   "outputs": [
    {
     "data": {
      "text/plain": [
       "model cs  pred         accuracy errorRate precision recall   specificity TSS       \n",
       "-----------------------------------------------------------------------------------\n",
       "MCM   arv sigPhiVer1hr 87.05075 12.94925  6.013986  48.86364 87.66746    0.365311  \n",
       "MCM   chu sigPhiVer1hr 88.14909 11.85091  6.784661  66.66667 88.42067    0.5508733 \n",
       "MCM   cor sigPhiVer1hr 86.71329 13.28671  7.462687  52.63158 87.37271    0.4000429 \n",
       "MCM   edm sigPhiVer1hr 91.7     8.3       6.439394  89.47368 91.71419    0.8118787 \n",
       "MCM   fsi sigPhiVer1hr 88.26836 11.73164  7.352941  74.62687 88.43612    0.6306299 \n",
       "MCM   fsm sigPhiVer1hr 88.03306 11.96694  6.828528  66.17647 88.31589    0.5449236 \n",
       "MCM   gil sigPhiVer1hr 85.6529  14.3471   19.71154  31.53846 89.9053     0.2144376 \n",
       "MCM   gjo sigPhiVer1hr 86.74894 13.25106  12.95732  50.29586 88.03938    0.3833524 \n",
       "MCM   rab sigPhiVer1hr 88.79518 11.20482  7.993197  73.4375  88.99512    0.6243262 \n",
       "MCM   ran sigPhiVer1hr 86.69996 13.30004  6.98324   48.54369 87.44107    0.3598476 \n",
       "MCM   rep sigPhiVer1hr 85.18246 14.81754  10.78767  42.85714 86.76321    0.2962035 \n",
       "MCM   arc sigPhiVer1hr 88.59275 11.40725  1.834862  100      88.56838    0.8856838 \n",
       "MCM   gri sigPhiVer1hr 88.58502 11.41498  0         0        88.69048    -0.1130952\n"
      ]
     },
     "execution_count": 22,
     "metadata": {},
     "output_type": "execute_result"
    }
   ],
   "source": [
    "\\c 100 100\n",
    "mcmRes"
   ]
  },
  {
   "cell_type": "markdown",
   "metadata": {},
   "source": [
    "## 2 Neural Network (NN) Model\n",
    "To improve performance metrics, a neural network model will be used. Going forward, only components selected in the feature selection process (featureselection.ipynb) will be used (found in the NN configuration table).\n",
    "\n",
    "As results showed that scintillation events are localized, localized features will be added to the dataset to account for the position of each station. These included the magnetometer dataset along with additional features mentioned below.\n",
    "### 2.1 Data"
   ]
  },
  {
   "cell_type": "code",
   "execution_count": 23,
   "metadata": {
    "collapsed": true
   },
   "outputs": [],
   "source": [
    "\\c 12 110\n",
    "\\l ../sw1/configNN.q"
   ]
  },
  {
   "cell_type": "code",
   "execution_count": 24,
   "metadata": {},
   "outputs": [
    {
     "name": "stdout",
     "output_type": "stream",
     "text": [
      "Selecting data from 2015.01.01 - 2015.08.31\n",
      "\n",
      "dt                            doy cs  tec      dtec   SI    specSlope s4         sigPhiVer  lat      long  ..\n",
      "-----------------------------------------------------------------------------------------------------------..\n",
      "2015.01.01D00:00:00.000000000 1   chu 20.58558 0.003  0.009 1.89      0.03389442 0.03238033 58.75928 -94.08..\n",
      "2015.01.01D00:00:00.000000000 1   mcm 26.4495  -0.009 0.007 1.82      0.02682024 0.02189605 56.64954 -111.2..\n",
      "2015.01.01D00:01:00.000000000 1   chu 23.5022  0      0.008 1.86      0.03101697 0.02482456 58.75928 -94.08..\n",
      "2015.01.01D00:01:00.000000000 1   mcm 28.21376 -0.042 0.006 1.79      0.02449711 0.02454222 56.64954 -111.2..\n",
      "2015.01.01D00:02:00.000000000 1   chu 22.22837 -0.006 0.009 1.94      0.03004769 0.02475049 58.75928 -94.08..\n",
      "2015.01.01D00:02:00.000000000 1   mcm 27.80834 -0.043 0.006 1.86      0.02343506 0.02284805 56.64954 -111.2..\n",
      "2015.01.01D00:03:00.000000000 1   chu 23.701   -0.014 0.01  1.87      0.03102507 0.02451099 58.75928 -94.08..\n",
      "..\n",
      "\n",
      "Shape of merged chain and solar tables is 752090 x 35\n"
     ]
    }
   ],
   "source": [
    "sdateNN:2015.01.01\n",
    "edateNN:2015.08.31\n",
    "\n",
    "1\"Selecting data from \",sv[\" - \";string sdateNN,edateNN],\"\\n\\n\";\n",
    "\n",
    "getAllDateNN:{[dt]\n",
    "  r:tabs!getTabDate[dt;configNN;]each tabs:`chain`solar`goes`mag;\n",
    "  t1:select from(r[`chain]lj`dt xkey update solarMatch:1b from r`solar)where solarMatch; \n",
    "  t2:select from(t1 lj`dt xkey update goesMatch:1b from r`goes)where goesMatch;\n",
    "  select from(t2 lj`dt`cs xkey update magMatch:1b from r`mag)where magMatch}\n",
    "show completeNN:raze getAllDateNN peach sdateNN+til 1+edateNN-sdateNN\n",
    "\n",
    "-1\"\\nShape of merged chain and solar tables is \",sv[\" x \"]string shape completeNN;"
   ]
  },
  {
   "cell_type": "markdown",
   "metadata": {
    "collapsed": true
   },
   "source": [
    "### 2.2 Extra Features\n",
    "As mentioned above, extra columns sindoy, cosdoy, sintime and cosdoy were added to account for variations in the data. In this model, 365.25 is used for $D_{tot}$ to account for the extra day present in a leap year. The names of the new features are added to the NN configuration table to account for scaling at a later stage. "
   ]
  },
  {
   "cell_type": "code",
   "execution_count": 25,
   "metadata": {},
   "outputs": [],
   "source": [
    "a:{2*pi*x%365.25}\n",
    "b:{(2*pi*`int$`minute$x)%1440}\n",
    "completeNN:update sindoy:sin a[doy],cosdoy:cos a[doy],sintime:sin b[dt],costime:cos b[dt]from completeNN\n",
    "{configNN,:(x;y;1b;z)}'[4#`completeNN;`sindoy`cosdoy`sintime`costime;(log1p;log1p;(::);(::))];"
   ]
  },
  {
   "cell_type": "markdown",
   "metadata": {},
   "source": [
    "When a scintillation event occurs, geomagnetic features such as xcomp, ycomp, zcomp and dTEC_15s will fluctuate drastically, shown in the plot below. "
   ]
  },
  {
   "cell_type": "code",
   "execution_count": 26,
   "metadata": {},
   "outputs": [],
   "source": [
    "newval:{abs(x-avg x)}\n",
    "completeNN:update newx:newval x,newy:newval y,newz:newval z,newdtec:newval dtec from completeNN\n",
    "{configNN,:(x;y;1b;z)}'[4#`completeNN;`newx`newy`newz`newdtec;4#(::)];"
   ]
  },
  {
   "cell_type": "code",
   "execution_count": 27,
   "metadata": {},
   "outputs": [],
   "source": [
    "/add target columns for each prediction time\n",
    "completeNN:predVal/[completeNN;predTime]"
   ]
  },
  {
   "cell_type": "code",
   "execution_count": 77,
   "metadata": {},
   "outputs": [
    {
     "name": "stdout",
     "output_type": "stream",
     "text": [
      "ALL| +`dt`doy`cs`tec`dtec`SI`specSlope`s4`sigPhiVer`lat`long`V`V_15`V_30`P`P_15`P_30`AE`AE_15`AE_..\n",
      "chu| +`dt`doy`cs`tec`dtec`SI`specSlope`s4`sigPhiVer`lat`long`V`V_15`V_30`P`P_15`P_30`AE`AE_15`AE_..\n",
      "mcm| +`dt`doy`cs`tec`dtec`SI`specSlope`s4`sigPhiVer`lat`long`V`V_15`V_30`P`P_15`P_30`AE`AE_15`AE_..\n",
      "fsi| +`dt`doy`cs`tec`dtec`SI`specSlope`s4`sigPhiVer`lat`long`V`V_15`V_30`P`P_15`P_30`AE`AE_15`AE_..\n"
     ]
    }
   ],
   "source": [
    "/separate data\n",
    "show dataNN:(`ALL,nnStn)!(enlist[completeNN],{?[completeNN;enlist(in;`cs;enlist x);0b;()]}each nnStn:distinct completeNN`cs)"
   ]
  },
  {
   "cell_type": "markdown",
   "metadata": {},
   "source": [
    "### 2.3 Feature Engineering - running model for MCM\n",
    "Following the same method as the SVM model, nulls will be dropped, with features selected and standard scaled. For the NN model, features will be exponentially weighted to give more recent data the highest importance. Target data will also be log scaled to prevent negative predictions for $\\sigma_\\phi$, which is always positive. A train-test split of 80%-20% will again be used."
   ]
  },
  {
   "cell_type": "code",
   "execution_count": 30,
   "metadata": {},
   "outputs": [
    {
     "name": "stdout",
     "output_type": "stream",
     "text": [
      "xtrn| +`tec`dtec`SI`specSlope`s4`sigPhiVer`lat`long`V`V_15`V_30`P`P_15`P_30`AE`AE_15`AE_30`newell`newell_15..\n",
      "ytrn| -3.334894 -3.643222 -3.674656 -3.806156 -3.950073 -2.644393 -3.795388 -3.589648 -3.793101 -3.749087 -..\n",
      "xtst| +`tec`dtec`SI`specSlope`s4`sigPhiVer`lat`long`V`V_15`V_30`P`P_15`P_30`AE`AE_15`AE_30`newell`newell_15..\n",
      "ytst| -3.881431 -3.754943 -3.860069 -3.60631 -3.766346 -3.553889 -3.759877 -3.54098 -3.69487 -3.808001 -3.7..\n"
     ]
    }
   ],
   "source": [
    "\\S 50\n",
    "\n",
    "sampleNN@:where not any flip null sampleNN:dataNN`mcm\n",
    "scaledNN:flip(exec first scaler by colname from configNN)@'flip sampleNN\n",
    "xNN:flip stdscaler each flip(exec colname from configNN where feature)#scaledNN\n",
    "xNN:flip(reverse ema[.1]reverse@)each flip xNN\n",
    "yNN:log sampleNN[first predCol]\n",
    "show nnInputs:`xtrn`ytrn`xtst`ytst!raze(xNN;yNN)@\\:/:splitIdx[.2;yNN]"
   ]
  },
  {
   "cell_type": "markdown",
   "metadata": {},
   "source": [
    "To overcome the small fraction of data representing scintillation events, oversampling is used on the training set. A random sample taken from the positive class and re-added to the training dataset, giving a final training set with 50% positive samples."
   ]
  },
  {
   "cell_type": "code",
   "execution_count": 31,
   "metadata": {},
   "outputs": [
    {
     "name": "stdout",
     "output_type": "stream",
     "text": [
      "Scintillation events before oversampling:\n",
      "\n",
      "ybinary| num  pcnt \n",
      "-------| ----------\n",
      "0      | 4103 98.25\n",
      "1      | 73   1.75 \n",
      "\n",
      "Scintillation events after oversampling:\n",
      "\n",
      "ybinary| num  pcnt\n",
      "-------| ---------\n",
      "0      | 4103 50  \n",
      "1      | 4103 50  \n"
     ]
    }
   ],
   "source": [
    "\\S 60\n",
    "\n",
    "positiveIdx:where yscint:.1<exp nnInputs`ytrn\n",
    "pos:`x`y!{x[y]}[;positiveIdx]each(nnInputs`xtrn;nnInputs`ytrn)\n",
    "sampleIdx:(nadd:(-) . sum each yscint=/:(0 1))?count pos`x\n",
    "sample:`x`y!{x[y]}[;sampleIdx]each(pos`x;pos`y)\n",
    "oversampled:`x`y!(nnInputs`xtrn;nnInputs`ytrn),'(sample`x;sample`y)\n",
    "\n",
    "-1\"Scintillation events before oversampling:\\n\";\n",
    "show update pcnt:round[;.01]100*num%sum num from select num:count i by ybinary from([]ybinary:yscint)\n",
    "-1\"\\nScintillation events after oversampling:\\n\";\n",
    "show update pcnt:round[;.01]100*num%sum num from select num:count i by ybinary from([]ybinary:.1<exp oversampled`y)"
   ]
  },
  {
   "cell_type": "markdown",
   "metadata": {},
   "source": [
    "### 2.4 Model\n",
    "We can use embedPy to import the python libraries necessary for creating the NN."
   ]
  },
  {
   "cell_type": "code",
   "execution_count": 33,
   "metadata": {},
   "outputs": [],
   "source": [
    "sequential:    .p.import[`keras.models]`:Sequential\n",
    "dense:         .p.import[`keras.layers]`:Dense\n",
    "normalization: .p.import[`keras.layers]`:BatchNormalization\n",
    "pylist:        .p.import[`builtins]`:list"
   ]
  },
  {
   "cell_type": "markdown",
   "metadata": {},
   "source": [
    "The model has 1 input layer, 4 hidden layers and 1 output layer. A normal distribution is used as the initializer for the kernel to set the weights in each layer of the model.\n",
    "\n",
    "The input and hidden layers output width of 256 nodes, along with an Exponential Linear Unit (ELU) activation function, which gives the best model performance. ELU was specifically chosen as it converged the loss function to zero better than other activation functions, such as a Rectified Linear Unit (RELU).\n",
    "\n",
    "The output layer has 1 node and a linear activation function to allow a single value for $\\sigma_\\phi$ to be returned for each timestep."
   ]
  },
  {
   "cell_type": "code",
   "execution_count": 35,
   "metadata": {},
   "outputs": [],
   "source": [
    "nnModel:sequential[];\n",
    "nnModel[`:add]dense[256;`input_dim pykw 37;`kernel_initializer pykw`normal;`activation pykw`elu];\n",
    "nnModel[`:add]normalization[];\n",
    "nnModel[`:add]dense[256;`activation pykw`elu;`kernel_initializer pykw`normal];\n",
    "nnModel[`:add]normalization[];\n",
    "nnModel[`:add]dense[256;`activation pykw`elu;`kernel_initializer pykw`normal];\n",
    "nnModel[`:add]normalization[];\n",
    "nnModel[`:add]dense[256;`activation pykw`elu;`kernel_initializer pykw`normal];\n",
    "nnModel[`:add]normalization[];\n",
    "nnModel[`:add]dense[256;`activation pykw`elu;`kernel_initializer pykw`normal];\n",
    "nnModel[`:add]normalization[];\n",
    "nnModel[`:add]dense[1;`activation pykw`linear];\n",
    "nnModel[`:compile][`loss pykw`mean_squared_error;`optimizer pykw`adam;`metrics pykw pylist `mse`mae]; "
   ]
  },
  {
   "cell_type": "markdown",
   "metadata": {},
   "source": [
    "We can now train the model for 50 epochs, using batch sizes of 512 each time. The model performs validation using 20% of the training data."
   ]
  },
  {
   "cell_type": "code",
   "execution_count": 36,
   "metadata": {
    "collapsed": true
   },
   "outputs": [],
   "source": [
    "epochs:50\n",
    "batchsz:512"
   ]
  },
  {
   "cell_type": "code",
   "execution_count": 37,
   "metadata": {
    "scrolled": true
   },
   "outputs": [
    {
     "name": "stdout",
     "output_type": "stream",
     "text": [
      "Train on 6564 samples, validate on 1642 samples\n",
      "Epoch 1/50\n",
      "Epoch 2/50\n",
      "Epoch 3/50\n",
      "Epoch 4/50\n",
      "Epoch 5/50\n",
      "Epoch 6/50\n",
      "Epoch 7/50\n",
      "Epoch 8/50\n",
      "Epoch 9/50\n",
      "Epoch 10/50\n",
      "Epoch 11/50\n",
      "Epoch 12/50\n",
      "Epoch 13/50\n",
      "Epoch 14/50\n",
      "Epoch 15/50\n",
      "Epoch 16/50\n",
      "Epoch 17/50\n",
      "Epoch 18/50\n",
      "Epoch 19/50\n",
      "Epoch 20/50\n",
      "Epoch 21/50\n",
      "Epoch 22/50\n",
      "Epoch 23/50\n",
      "Epoch 24/50\n",
      "Epoch 25/50\n",
      "Epoch 26/50\n",
      "Epoch 27/50\n",
      "Epoch 28/50\n",
      "Epoch 29/50\n",
      "Epoch 30/50\n",
      "Epoch 31/50\n",
      "Epoch 32/50\n",
      "Epoch 33/50\n",
      "Epoch 34/50\n",
      "Epoch 35/50\n",
      "Epoch 36/50\n",
      "Epoch 37/50\n",
      "Epoch 38/50\n",
      "Epoch 39/50\n",
      "Epoch 40/50\n",
      "Epoch 41/50\n",
      "Epoch 42/50\n",
      "Epoch 43/50\n",
      "Epoch 44/50\n",
      "Epoch 45/50\n",
      "Epoch 46/50\n",
      "Epoch 47/50\n",
      "Epoch 48/50\n",
      "Epoch 49/50\n",
      "Epoch 50/50\n",
      "Training sequential model for 50 epochs took 00:00:24.252\n"
     ]
    }
   ],
   "source": [
    "start:.z.T;\n",
    "nnModel[`:fit][array[value flip oversampled`x]`:T;oversampled`y;`batch_size pykw batchsz;`verbose pykw 3;`epochs pykw epochs;`validation_split pykw .2];\n",
    "-1\"Training sequential model for \",string[epochs],\" epochs took \",string .z.T-start;"
   ]
  },
  {
   "cell_type": "markdown",
   "metadata": {},
   "source": [
    "Once trained, the model can be used to make predictions 1 hour ahead. Outputs will be assigned binary values, using the 0.1 radians threshold, and can then be compared to the y test values selected previously."
   ]
  },
  {
   "cell_type": "code",
   "execution_count": 38,
   "metadata": {},
   "outputs": [
    {
     "data": {
      "text/plain": [
       "0.01537679 0.01890498 0.01658679 0.01951059 0.01700157 0.02682969 0.02003282 0.02616643 0.01989861 0.017255..\n",
       "0          0          0          0          0          0          0          0          0          0       ..\n"
      ]
     },
     "execution_count": 38,
     "metadata": {},
     "output_type": "execute_result"
    }
   ],
   "source": [
    "nnPred:raze(nnModel[`:predict]array[value flip nnInputs`xtst]`:T)`\n",
    "value`predVal`binpredVal!(exp nnPred;.1<exp nnPred)"
   ]
  },
  {
   "cell_type": "code",
   "execution_count": 39,
   "metadata": {},
   "outputs": [
    {
     "name": "stdout",
     "output_type": "stream",
     "text": [
      "\n",
      "Confusion matrix for neural network model:\n",
      "\n"
     ]
    },
    {
     "data": {
      "image/png": "[encoded data removed]",
      "text/plain": [
       "<matplotlib.figure.Figure at 0x7f774c15a710>"
      ]
     },
     "metadata": {},
     "output_type": "display_data"
    }
   ],
   "source": [
    "-1\"\\nConfusion matrix for neural network model:\\n\";\n",
    "nnCM:cfm[.1<exp nnInputs`ytst;.1<exp nnPred]\n",
    "displayCM[value nnCM;`NoScintillation`Scintillation;\"Confusion Matrix\";()]"
   ]
  },
  {
   "cell_type": "code",
   "execution_count": 40,
   "metadata": {},
   "outputs": [
    {
     "name": "stdout",
     "output_type": "stream",
     "text": [
      "Performance metric results:\n",
      "\n",
      "model      | `NN\n",
      "cs         | `mcm\n",
      "pred       | `sigPhiVer1hr\n",
      "accuracy   | 97.22222\n",
      "errorRate  | 2.777778\n",
      "precision  | 47.36842\n",
      "recall     | 66.66667\n",
      "specificity| 98.03343\n",
      "TSS        | 0.647001\n"
     ]
    }
   ],
   "source": [
    "-1\"Performance metric results:\\n\";\n",
    "show(`model`cs`pred!(`NN;`mcm;first predCol)),metrics nnCM"
   ]
  },
  {
   "cell_type": "markdown",
   "metadata": {},
   "source": [
    "### 2.5 Running model for all stations and prediction times"
   ]
  },
  {
   "cell_type": "code",
   "execution_count": 41,
   "metadata": {
    "collapsed": true
   },
   "outputs": [],
   "source": [
    "\\S 70\n",
    "\n",
    "trainPredNN:{[stn;col]\n",
    "\n",
    "  t@:where not any flip null t:dataNN[stn];\n",
    "  scl:flip(exec first scaler by colname from configNN)@'flip t;\n",
    "  xdata:flip stdscaler each flip(exec colname from configNN where feature)#scl;\n",
    "  xdata:flip(reverse ema[.1]reverse@)each flip xdata;\n",
    "  ydata:log t[col];\n",
    "  r:`xtrn`ytrn`xtst`ytst!raze(xdata;ydata)@\\:/:splitIdx[.2;ydata];\n",
    "\n",
    "  positiveIdx:where yscint:.1<exp r`ytrn;\n",
    "  pos:`x`y!{x[y]}[;positiveIdx]each(r`xtrn;r`ytrn);\n",
    "  sampleIdx:(nadd:(-) . sum each yscint=/:(0 1))?count pos`x;\n",
    "  sample:`x`y!{x[y]}[;sampleIdx]each(pos`x;pos`y);\n",
    "  oversampled:`x`y!(r`xtrn;r`ytrn),'(sample`x;sample`y);\n",
    "\n",
    "  start:.z.T;\n",
    "  nnModel[`:fit][array[value flip oversampled`x]`:T;oversampled`y;`batch_size pykw batchsz;`verbose pykw 0;`epochs pykw epochs;`validation_split pykw .2];\n",
    "  -1\"Training sequential model for \",string[epochs],\" epochs took \",string .z.T-start;\n",
    "\n",
    "  pred:raze(nnModel[`:predict]array[value flip r`xtst]`:T)`;\n",
    "  CM:cfm[.1<exp r`ytst;.1<exp pred];\n",
    "  (`model`cs`pred!(`NN;stn;col)),metrics CM\n",
    "\n",
    "  }"
   ]
  },
  {
   "cell_type": "code",
   "execution_count": 42,
   "metadata": {
    "scrolled": true
   },
   "outputs": [
    {
     "name": "stdout",
     "output_type": "stream",
     "text": [
      "Training sequential model for 50 epochs took 00:00:47.404\n",
      "Training sequential model for 50 epochs took 00:00:53.346\n",
      "Training sequential model for 50 epochs took 00:00:47.611\n",
      "Training sequential model for 50 epochs took 00:00:47.685\n",
      "Training sequential model for 50 epochs took 00:00:47.324\n",
      "Training sequential model for 50 epochs took 00:00:46.752\n",
      "Training sequential model for 50 epochs took 00:00:20.965\n",
      "Training sequential model for 50 epochs took 00:00:20.634\n",
      "Training sequential model for 50 epochs took 00:00:20.200\n",
      "Training sequential model for 50 epochs took 00:00:25.971\n",
      "Training sequential model for 50 epochs took 00:00:19.490\n",
      "Training sequential model for 50 epochs took 00:00:19.390\n",
      "Training sequential model for 50 epochs took 00:00:20.363\n",
      "Training sequential model for 50 epochs took 00:00:20.830\n",
      "Training sequential model for 50 epochs took 00:00:20.776\n",
      "Training sequential model for 50 epochs took 00:00:21.206\n",
      "Training sequential model for 50 epochs took 00:00:21.124\n",
      "Training sequential model for 50 epochs took 00:00:22.636\n",
      "Training sequential model for 50 epochs took 00:00:06.604\n",
      "Training sequential model for 50 epochs took 00:00:06.641\n",
      "Training sequential model for 50 epochs took 00:00:06.592\n",
      "Training sequential model for 50 epochs took 00:00:06.432\n",
      "Training sequential model for 50 epochs took 00:00:06.230\n",
      "Training sequential model for 50 epochs took 00:00:06.153\n",
      "Total NN training time: 00:09:47.335\n"
     ]
    }
   ],
   "source": [
    "start:.z.T;\n",
    "nnRes:trainPredNN . '(`ALL,distinct completeNN`cs)cross predCol\n",
    "-1\"Total NN training time: \",string .z.T-start;"
   ]
  },
  {
   "cell_type": "code",
   "execution_count": 43,
   "metadata": {},
   "outputs": [
    {
     "data": {
      "text/plain": [
       "model cs  pred          accuracy errorRate precision recall   specificity TSS         \n",
       "--------------------------------------------------------------------------------------\n",
       "NN    ALL sigPhiVer1hr  97.7418  2.258202  20        21.875   98.7905     0.206655    \n",
       "NN    ALL sigPhiVer3hr  98.04005 1.959949  22.22222  30.76923 98.79362    0.2956285   \n",
       "NN    ALL sigPhiVer6hr  97.69919 2.30081   16.66667  14.70588 98.91915    0.1362503   \n",
       "NN    ALL sigPhiVer9hr  98.12527 1.874734  32.14286  26.47059 99.17856    0.2564914   \n",
       "NN    ALL sigPhiVer12hr 97.78441 2.215594  18.51852  14.28571 99.04844    0.1333416   \n",
       "NN    ALL sigPhiVer24hr 97.95484 2.045164  40        23.25581 99.34896    0.2260477   \n",
       "NN    chu sigPhiVer1hr  98.12623 1.873767  9.090909  10       99.00398    0.09003984  \n",
       "NN    chu sigPhiVer3hr  98.02761 1.972387  27.27273  20       99.1992     0.191992    \n",
       "NN    chu sigPhiVer6hr  98.42209 1.577909  33.33333  6.666667 99.7998     0.06466466  \n",
       "NN    chu sigPhiVer9hr  98.12623 1.873767  20        15.38462 99.2008     0.1458541   \n",
       "NN    chu sigPhiVer12hr 98.22485 1.775148  18.18182  18.18182 99.10269    0.1728451   \n",
       "NN    chu sigPhiVer24hr 98.32347 1.676529  0         0        99.40179    -0.005982054\n",
       "NN    mcm sigPhiVer1hr  96.83908 3.16092   22.72727  23.80952 98.33822    0.2214774   \n",
       "NN    mcm sigPhiVer3hr  98.85057 1.149425  33.33333  33.33333 99.42029    0.3275362   \n",
       "NN    mcm sigPhiVer6hr  97.70115 2.298851  46.66667  30.43478 99.21645    0.2965124   \n",
       "NN    mcm sigPhiVer9hr  97.41379 2.586207  38.88889  30.43478 98.92262    0.2935741   \n",
       "NN    mcm sigPhiVer12hr 97.22222 2.777778  35.29412  25       98.92157    0.2392157   \n",
       "NN    mcm sigPhiVer24hr 98.08429 1.915709  58.33333  31.81818 99.51076    0.3132895   \n",
       "NN    fsi sigPhiVer1hr  97.91667 2.083333  0         0        99.29577    -0.007042254\n",
       "NN    fsi sigPhiVer3hr  97.91667 2.083333  0         0        98.94737    -0.01052632 \n",
       "NN    fsi sigPhiVer6hr  98.61111 1.388889  0         0        99.3007     -0.006993007\n",
       "NN    fsi sigPhiVer9hr  97.56944 2.430556  0         0        98.94366    -0.01056338 \n",
       "NN    fsi sigPhiVer12hr 97.91667 2.083333  0         0        98.94737    -0.01052632 \n",
       "NN    fsi sigPhiVer24hr 98.26389 1.736111  0         0        99.64789    -0.003521127\n"
      ]
     },
     "execution_count": 43,
     "metadata": {},
     "output_type": "execute_result"
    }
   ],
   "source": [
    "\\c 100 100\n",
    "nnRes"
   ]
  },
  {
   "cell_type": "markdown",
   "metadata": {},
   "source": [
    "### Comparison of results"
   ]
  },
  {
   "cell_type": "code",
   "execution_count": 117,
   "metadata": {
    "scrolled": false
   },
   "outputs": [
    {
     "data": {
      "text/plain": [
       "model cs  pred          accuracy errorRate precision recall   specificity TSS         \n",
       "--------------------------------------------------------------------------------------\n",
       "SVM   ALL sigPhiVer1hr  82.84707 17.15293  10.54482  80.80808 82.89794    0.6370602   \n",
       "NN    ALL sigPhiVer1hr  97.7418  2.258202  20        21.875   98.7905     0.206655    \n",
       "SVM   ALL sigPhiVer24hr 72.50451 27.49549  4.947614  65.63707 72.65344    0.382905    \n",
       "NN    ALL sigPhiVer24hr 97.95484 2.045164  40        23.25581 99.34896    0.2260477   \n",
       "SVM   chu sigPhiVer1hr  89.68326 10.31674  6.19469   46.66667 90.27523    0.369419    \n",
       "NN    chu sigPhiVer1hr  98.12623 1.873767  9.090909  10       99.00398    0.09003984  \n",
       "SVM   chu sigPhiVer24hr 92.85068 7.149321  2.816901  16.66667 93.6871     0.1035377   \n",
       "NN    chu sigPhiVer24hr 98.32347 1.676529  0         0        99.40179    -0.005982054\n",
       "SVM   fsi sigPhiVer1hr  89.75521 10.24479  4.347826  62.5     89.95434    0.5245434   \n",
       "NN    fsi sigPhiVer1hr  97.91667 2.083333  0         0        99.29577    -0.007042254\n",
       "SVM   fsi sigPhiVer24hr 90.29918 9.700816  3.092784  18.75    91.35235    0.1010235   \n",
       "NN    fsi sigPhiVer24hr 98.26389 1.736111  0         0        99.64789    -0.003521127\n",
       "SVM   mcm sigPhiVer1hr  88.66906 11.33094  5.30303   87.5     88.67754    0.7617754   \n",
       "NN    mcm sigPhiVer1hr  96.83908 3.16092   22.72727  23.80952 98.33822    0.2214774   \n",
       "SVM   mcm sigPhiVer24hr 73.20144 26.79856  5.769231  81.81818 73.02752    0.548457    \n",
       "NN    mcm sigPhiVer24hr 98.08429 1.915709  58.33333  31.81818 99.51076    0.3132895   \n"
      ]
     },
     "execution_count": 117,
     "metadata": {},
     "output_type": "execute_result"
    }
   ],
   "source": [
    "\\c 50 100\n",
    "svm124:select from svmRes where pred in `sigPhiVer1hr`sigPhiVer24hr\n",
    "nn124:select from nnRes where pred in `sigPhiVer1hr`sigPhiVer24hr\n",
    "`cs`pred xasc select from(svm124,nn124)where cs in(`ALL,distinct completeNN`cs)"
   ]
  },
  {
   "cell_type": "code",
   "execution_count": 118,
   "metadata": {},
   "outputs": [],
   "source": [
    "/\n",
    "resplot:{[d1;d2;stn]\n",
    "\n",
    "  plt[`:subplots][1;2;`figsize pykw 20 4];\n",
    "\n",
    "  plt[`:subplot]121;\n",
    "  plt[`:scatter][key d1;value[d1]`TSS];\n",
    "  plt[`:scatter][first key[res`comb];(first value d1)`TSS;`color pykw`black];\n",
    "  plt[`:grid]1b;\n",
    "  plt[`:ylim]0 1;\n",
    "  plt[`:xlabel]\"Chain Station\";\n",
    "  plt[`:ylabel]\"Total Skill Score\";\n",
    "  plt[`:title]\"Individual SVM Results\";\n",
    "\n",
    "  plt[`:subplot]122;\n",
    "  plt[`:scatter][key d2;value[d2]`TSS;`color pykw `darkorange];\n",
    "  plt[`:scatter][stn;d2[stn]`TSS;`color pykw`black];\n",
    "  plt[`:grid]1b;\n",
    "  plt[`:ylim]0 1;\n",
    "  plt[`:xlabel]\"Chain Station\";\n",
    "  plt[`:ylabel]\"Total Skill Score (TSS)\";\n",
    "  plt[`:title]\"Fort McMurray SVM Results\";\n",
    "\n",
    "  plt[`:show][];\n",
    "\n",
    " }"
   ]
  }
 ],
 "metadata": {
  "kernelspec": {
   "display_name": "Q (kdb+)",
   "language": "q",
   "name": "qpk"
  },
  "language_info": {
   "file_extension": ".q",
   "mimetype": "text/x-q",
   "name": "q",
   "version": "3.5.0"
  }
 },
 "nbformat": 4,
 "nbformat_minor": 2
}
