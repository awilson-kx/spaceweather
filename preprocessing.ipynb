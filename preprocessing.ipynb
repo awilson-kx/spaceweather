{
 "cells": [
  {
   "cell_type": "code",
   "execution_count": null,
   "metadata": {
    "collapsed": true
   },
   "outputs": [],
   "source": [
    "/utils\n",
    "pi:acos -1\n",
    "atan2:{2*atan x%sqrt[sqr[x]+sqr y]+y}\n",
    "sqr:{x*x}\n",
    "getDoy:{1+x-\"d\"$1+(-).`month`mm$\\:x}\n",
    "times:{[int;start]select from([]dt:\"p\"$s+`minute$til`int$60*24*1+(\"z\"$edate)-s:\"z\"$start)where 0=i mod int}"
   ]
  },
  {
   "cell_type": "markdown",
   "metadata": {},
   "source": [
    "### Chain data"
   ]
  },
  {
   "cell_type": "code",
   "execution_count": null,
   "metadata": {
    "collapsed": true
   },
   "outputs": [],
   "source": [
    "chainUrl:\"ftp://chain.physics.unb.ca/gps/ismr\"\n",
    "chainStn:`arv`arc`chu`cor`edm`fsi`fsm`gil`gjo`gri`mcm`rab`ran`rep\n",
    "sdate:2015.01.01\n",
    "edate:2017.12.31\n",
    "user:\"kibebuy@gmail.com\"\n",
    "pass:\"4Kindahafti4\""
   ]
  },
  {
   "cell_type": "code",
   "execution_count": null,
   "metadata": {
    "collapsed": true
   },
   "outputs": [],
   "source": [
    "chainCol:raze(31#\"S\";csv)0:`:chaincols.csv\n",
    "chainLatLong:1!update long-360 from(\"SFF\";(),csv)0:`:./cslatlong.csv"
   ]
  },
  {
   "cell_type": "code",
   "execution_count": null,
   "metadata": {
    "scrolled": true
   },
   "outputs": [],
   "source": [
    "fileArgs:(cross/)(chainStn;sdate+til 1+edate-sdate;til 24)\n",
    "\n",
    "loadChain:{[stn;dt;hr]\n",
    "  url:0N!\"/\"sv(chainUrl;yr;sdoy;-2#\"0\",string hr;string[stn],\"c\",(-2#yr:string`year$dt),(sdoy:-3#\"00\",string doy:getDoy dt),(.Q.a hr),\".ismr.gz\");\n",
    "  cmd:\"curl -u \",user,\":\",pass,\" \",url,\" 2>/dev/null | gunzip -c 2>/dev/null\";\n",
    "  if[(::)~r:@[system;cmd;{[e] -2\"Error: \",e;}];:()];\n",
    "  update dt,doy,cs:stn from t:flip chainCol!(31#\"F\";csv)0:r}\n",
    "\n",
    "start:.z.T;\n",
    "chain:raze loadChain .'fileArgs\n",
    "-1\"\\nReading in chain data took \",string .z.T-start;"
   ]
  },
  {
   "cell_type": "code",
   "execution_count": null,
   "metadata": {
    "collapsed": true
   },
   "outputs": [],
   "source": [
    "chain:select from chain where elevation>=30,locktimeSig1>200"
   ]
  },
  {
   "cell_type": "code",
   "execution_count": null,
   "metadata": {
    "collapsed": true
   },
   "outputs": [],
   "source": [
    "chain:update dt+\"v\"$tow mod 86400 from chain lj chainLatLong\n",
    "chain:update tec*sqrt 1-sqr cos[elevation*pi%180]*6378.137%6378.137+110 from chain\n",
    "chain:update s4*sin[elevation*pi%180]xexp .9 from chain\n",
    "chain:update sigPhiVer*sqrt sin elevation*pi%180 from chain\n",
    "\n",
    "chain:0!select med tec,med dtec,med s4,med specSlope,med SI,med sigPhiVer by dt,doy,cs from chain"
   ]
  },
  {
   "cell_type": "code",
   "execution_count": null,
   "metadata": {
    "collapsed": true
   },
   "outputs": [],
   "source": [
    "chain:{[t;hr]\n",
    "   t lj 2!?[t;();0b;(`dt`cs,`$\"sigPhiVer\",string[hr],\"hr\")!((-;`dt;\"u\"$60*hr);`cs;`sigPhiVer)]\n",
    "  }/[chain;1 3 6 9 12 24]"
   ]
  },
  {
   "cell_type": "markdown",
   "metadata": {},
   "source": [
    "### Solar data"
   ]
  },
  {
   "cell_type": "code",
   "execution_count": null,
   "metadata": {
    "collapsed": true
   },
   "outputs": [],
   "source": [
    "solarUrl:\"ftp://spdf.gsfc.nasa.gov/pub/data/omni/\"\n",
    "dir5mn:\"high_res_omni/omni_5min\"\n",
    "dir1hr:\"low_res_omni/omni2_\"\n",
    "/sdate:2015.01.01\n",
    "/edate:2017.12.31"
   ]
  },
  {
   "cell_type": "code",
   "execution_count": null,
   "metadata": {
    "collapsed": true
   },
   "outputs": [],
   "source": [
    "solar5mn:solarUrl,dir5mn\n",
    "solar1hr:solarUrl,dir1hr\n",
    "\n",
    "omniDate:2014.01.01\n",
    "y:2014+til 4\n",
    "width5mn:4 4 3 3 3 3 4 4 4 7 7 6 7 8 8 8 8 8 8 8 8 8 8 8 8 7 9 6 7 7 6 8 8 8 8 8 8 6 6 6 6 6 6 6 7 5 9 9 9\n",
    "width1hr:4 4 3 5 3 3 4 4 6 6 6 6 6 6 6 6 6 6 6 6 6 6 9 6 6 6 6 6 6 9 6 6 6 6 6 7 7 6 3 4 6 5 10 9 9 9 9 9 3 4 6 6 6 6 5\n",
    "dtype5mn:\"IIIIIIIIIIIFIFFFFFFFFFFFFFFFFFFFFFFFFIFIIIIIFFFFF\"\n",
    "dtype1hr:\"IIIIIIIIFFFFFFFFFFFFFFFFFFFFFFFFFFFFFFIIFIFFFFFFFIFFFIF\""
   ]
  },
  {
   "cell_type": "code",
   "execution_count": null,
   "metadata": {
    "collapsed": true
   },
   "outputs": [],
   "source": [
    "col5mn:raze(49#\"S\";csv)0:`:solarcols.csv\n",
    "col1hr:raze(55#\"S\";csv)0:`:solarcols1hr.csv"
   ]
  },
  {
   "cell_type": "code",
   "execution_count": null,
   "metadata": {
    "collapsed": true
   },
   "outputs": [],
   "source": [
    "loadSolar:{[y;t]\n",
    "  input:`width`dtype`url`file`col!$[t=5;(width5mn;dtype5mn;solar5mn;\".asc\";col5mn);(width1hr;dtype1hr;solar1hr;\".dat\";col1hr)];\n",
    "  0N!url:input[`url],string[y],input`file;\n",
    "  cmd:\"curl \",url,\" 2>/dev/null\";\n",
    "  if[(::)~r:@[system;cmd;{[e] -2\"Error: \",e;}];:()];\n",
    "  flip input[`col]!(input`dtype;input`width)0:r\n",
    "  }\n",
    "\n",
    "start:.z.T\n",
    "solar5mn:raze loadSolar[;5]each y\n",
    "solar1hr:raze loadSolar[;1]each -3#y\n",
    "-1\"\\nReading in solar data took \",string .z.T-start;"
   ]
  },
  {
   "cell_type": "code",
   "execution_count": null,
   "metadata": {
    "collapsed": true
   },
   "outputs": [],
   "source": [
    "solar5mn:update angle:atan2[By;Bz],btot:sqrt sqr[By]+sqr Bz from solar5mn\n",
    "solar5mn:update borovsky:0.0329*sqr[V*sin angle%2]*sqrt[n]*xexp[mach;-.18]*exp sqrt mach%3.42 from solar5mn\n",
    "solar5mn:update angle:angle+pi from solar5mn where i in where 0>=cos[angle]*Bz*btot\n",
    "solar5mn:update newell:xexp[V;1.33333]*xexp[abs sin angle%2;2.66667]*xexp[btot;0.66667] from solar5mn\n",
    "\n",
    "solar5mn:select dt:times[5;omniDate]`dt,By,Bz,AE,symH,V,P,borovsky:borovsky,newell:newell,proton10,proton30,proton60 from solar5mn\n",
    "solar5mn:reverse fills reverse times[1;omniDate]lj 1!solar5mn\n",
    "\n",
    "solar5mn:{[t;lb]\n",
    "   t lj 1!?[t;();0b;(`dt,`$string[c],\\:\"_\",string lb)!(enlist[(+;`dt;\"u\"$lb)],c:`By`Bz`AE`symH`V`P`borovsky`newell)]\n",
    "  }/[solar5mn;15 30]"
   ]
  },
  {
   "cell_type": "code",
   "execution_count": null,
   "metadata": {
    "collapsed": true
   },
   "outputs": [],
   "source": [
    "solar1hr:select dt:times[60;sdate]`dt,f107,kp:kp%10 from solar1hr"
   ]
  },
  {
   "cell_type": "code",
   "execution_count": null,
   "metadata": {
    "collapsed": true,
    "scrolled": true
   },
   "outputs": [],
   "source": [
    "goesUrl:\"https://satdat.ngdc.noaa.gov/sem/goes/data/full\"\n",
    "fileArgs:5#sdate+til 1+edate-sdate\n",
    "\n",
    "loadGoes:{[dt]\n",
    "  url:0N!\"/\"sv(goesUrl;string`year$dt;-2#\"0\",string`mm$dt;\"goes15/csv\";\"g15_xrs_2s_\",d,\"_\",(d:ssr[string dt;\".\";\"\"]),\".csv\");  \n",
    "  cmd:\"curl \",url,\" 2>/dev/null\";\n",
    "  if[(::)~r:@[system;cmd;{[e] -2\"Error: \",e;}];:()];\n",
    "  t:select dt:first time_tag.datetime,time:first time_tag.time,minute:first time_tag.minute,goes:avg B_FLUX by 1 xbar time_tag.minute from(\"ZSJFSJF\";(),csv)0:139_r;\n",
    "  select dt,goes from update dt:dt-time-minute from t\n",
    "  }\n",
    "\n",
    "start:.z.T\n",
    "goesTab:raze loadGoes each fileArgs\n",
    "-1\"\\nReading in GOES data took \",string .z.T-start;"
   ]
  },
  {
   "cell_type": "code",
   "execution_count": null,
   "metadata": {
    "collapsed": true
   },
   "outputs": [],
   "source": [
    "solar:(lj/)[solar5mn;1!/:(solar1hr;goesTab)]\n",
    "solar:select from solar where dt within(2015.01.01;edate)"
   ]
  },
  {
   "cell_type": "markdown",
   "metadata": {},
   "source": [
    "### Magnetometer data"
   ]
  },
  {
   "cell_type": "code",
   "execution_count": null,
   "metadata": {
    "collapsed": true
   },
   "outputs": [],
   "source": [
    "magUrl:\"http://data.carisma.ca/FGM/1Hz/\"\n",
    "magStn:`mcmu`fsim`fchu!`mcm`fsi`chu"
   ]
  },
  {
   "cell_type": "code",
   "execution_count": null,
   "metadata": {
    "collapsed": true
   },
   "outputs": [],
   "source": [
    "fileArgs:5#key[magStn]cross sdate+til 1+edate-sdate;\n",
    "\n",
    "loadMag:{[s;dt]\n",
    "  0N!url:magUrl,sv[\"/\";ssr[string dt;\".\"]each(\"/\";\"\")],upper[string s],\".F01.gz\";\n",
    "  cmd:\"curl \",url,\" 2>/dev/null | gunzip -c 2>/dev/null\";\n",
    "  if[(::)~r:@[system;cmd;{[e] -2\"Error: \",e;}];:()];\n",
    "  d:ssr[;\"  \";\" \"]each r;\n",
    "  t:update{(+).\"DV\"$'0 8_x}each dt from flip`dt`x`y`z!(\"*FFF\";\" \")0:1_d;\n",
    "  update cs:magStn s from 0!select first x,first y,first z by(\"n\"$\"u\"$1)xbar\"p\"$dt from t\n",
    " }\n",
    "\n",
    "start:.z.T;\n",
    "mag:raze loadMag .'fileArgs\n",
    "-1\"\\nReading in mag data took \",string .z.T-start;"
   ]
  },
  {
   "cell_type": "code",
   "execution_count": null,
   "metadata": {
    "collapsed": true
   },
   "outputs": [],
   "source": [
    "chain:5#chain\n",
    "solar:5#solar\n",
    "mag:5#mag"
   ]
  },
  {
   "cell_type": "markdown",
   "metadata": {},
   "source": [
    "### Save data"
   ]
  },
  {
   "cell_type": "code",
   "execution_count": null,
   "metadata": {
    "collapsed": true
   },
   "outputs": [],
   "source": [
    "dstdir:`:/SpaceWeather/test"
   ]
  },
  {
   "cell_type": "code",
   "execution_count": null,
   "metadata": {
    "collapsed": true
   },
   "outputs": [],
   "source": [
    "savechain:{[dir;t;d]0N!.Q.par[dir;d;`$\"chain/\"]set .Q.en[dir]select from t where d=\"d\"$dt}\n",
    "savechain[dstdir;chain]each exec distinct\"d\"$dt from chain;\n",
    ".Q.chk dstdir;"
   ]
  },
  {
   "cell_type": "code",
   "execution_count": null,
   "metadata": {
    "collapsed": true
   },
   "outputs": [],
   "source": [
    "savesolar:{[dir;t;d]0N!.Q.par[dir;d;`$\"solar/\"]set .Q.en[dir]select from t where d=\"d\"$dt}\n",
    "savesolar[dstdir;solar]each exec distinct\"d\"$dt from solar;\n",
    ".Q.chk dstdir;"
   ]
  },
  {
   "cell_type": "code",
   "execution_count": null,
   "metadata": {
    "collapsed": true
   },
   "outputs": [],
   "source": [
    "savemag:{[dir;t;d]0N!.Q.par[dir;d;`$\"mag/\"]set .Q.en[dir]select from t where d=\"d\"$dt}\n",
    "savemag[dstdir;mag]each exec distinct\"d\"$dt from mag;\n",
    ".Q.chk dstdir;"
   ]
  }
 ],
 "metadata": {
  "kernelspec": {
   "display_name": "Q (kdb+)",
   "language": "q",
   "name": "qpk"
  },
  "language_info": {
   "file_extension": ".q",
   "mimetype": "text/x-q",
   "name": "q",
   "version": "3.5.0"
  }
 },
 "nbformat": 4,
 "nbformat_minor": 2
}
